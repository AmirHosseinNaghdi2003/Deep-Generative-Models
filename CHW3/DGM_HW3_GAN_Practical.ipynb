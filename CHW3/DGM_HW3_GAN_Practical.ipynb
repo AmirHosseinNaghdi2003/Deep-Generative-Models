{
  "metadata": {
    "kernelspec": {
      "language": "python",
      "display_name": "Python 3",
      "name": "python3"
    },
    "language_info": {
      "name": "python",
      "version": "3.10.14",
      "mimetype": "text/x-python",
      "codemirror_mode": {
        "name": "ipython",
        "version": 3
      },
      "pygments_lexer": "ipython3",
      "nbconvert_exporter": "python",
      "file_extension": ".py"
    },
    "kaggle": {
      "accelerator": "nvidiaTeslaT4",
      "dataSources": [],
      "dockerImageVersionId": 30761,
      "isInternetEnabled": true,
      "language": "python",
      "sourceType": "notebook",
      "isGpuEnabled": true
    },
    "colab": {
      "provenance": []
    }
  },
  "nbformat_minor": 0,
  "nbformat": 4,
  "cells": [
    {
      "cell_type": "markdown",
      "source": [
        "<font face=\"Times New Roman\" size=5>\n",
        "<div dir=rtl align=\"center\">\n",
        "<font face=\"Times New Roman\" size=5>\n",
        "In The Name of God\n",
        "</font>\n",
        "<br>\n",
        "<img src=\"https://logoyar.com/content/wp-content/uploads/2021/04/sharif-university-logo.png\" alt=\"University Logo\" width=\"150\" height=\"150\">\n",
        "<br>\n",
        "<font face=\"Times New Roman\" size=4 align=center>\n",
        "Sharif University of Technology - Department of Electrical Engineering\n",
        "</font>\n",
        "<br>\n",
        "<font color=\"#008080\" size=6>\n",
        "Deep Generative Models\n",
        "</font>\n",
        "\n",
        "<hr/>\n",
        "<font color=\"#800080\" size=5>\n",
        "Assignment 3: Generative Adversarial Networks\n",
        "<br>\n",
        "</font>\n",
        "<font size=5>\n",
        "Instructor: Dr. S. Amini\n",
        "<br>\n",
        "</font>\n",
        "<font size=4>\n",
        "Fall 2024\n",
        "<br>\n",
        "</font>\n",
        "<font face=\"Times New Roman\" size=4>\n",
        "Deadline: Month day at 23:55\n",
        "</font>\n",
        "<hr>\n",
        "</div></font>"
      ],
      "metadata": {
        "id": "5D0zRp_ZaftG"
      }
    },
    {
      "cell_type": "code",
      "source": [
        "name = ''\n",
        "std_id = ''"
      ],
      "metadata": {
        "id": "2Hr1Iq4DfkZh"
      },
      "execution_count": null,
      "outputs": []
    },
    {
      "cell_type": "markdown",
      "source": [
        "### In this notebook, you will implement the required components from scratch, without code completion. Utilize `torch` to create models and perform optimization. The goal of this assignment is to implement Deep Convolutional Generative Adversarial Networks (DC-GAN) using the MNIST dataset and to explore interpolation in the latent space.\n",
        "\n",
        "### To get started, please read the DC-GAN paper available at this link: [DC-GAN Paper](https://arxiv.org/abs/1511.06434v2).\n"
      ],
      "metadata": {
        "id": "2HBtFTCtiMz9"
      }
    },
    {
      "cell_type": "markdown",
      "source": [
        "### Part 1. Load the MNIST dataset."
      ],
      "metadata": {
        "id": "mqzdRBbhi4Fo"
      }
    },
    {
      "cell_type": "code",
      "source": [],
      "metadata": {
        "id": "RqnDGmJBjVTT"
      },
      "execution_count": null,
      "outputs": []
    },
    {
      "cell_type": "markdown",
      "source": [
        "### Part 2: Build the Generator and Discriminator models.\n",
        "Build the models with the architecture guidelines for stable training as described in the paper. It is recommended to use the model parameters presented in `config.yaml`, but you are free to choose any set of parameters you prefer.\n"
      ],
      "metadata": {
        "id": "4SCMt7bmi_s2"
      }
    },
    {
      "cell_type": "code",
      "source": [],
      "metadata": {
        "id": "vxeqSo2_jpln"
      },
      "execution_count": null,
      "outputs": []
    },
    {
      "cell_type": "markdown",
      "source": [
        "### Part 3: Write a function to train the models using the GAN framework.\n",
        "You can refer to the slides or the original GAN paper for the training schema: [GAN Paper](https://arxiv.org/abs/1406.2661). Additionally, create a function to generate samples from the model. Ensure to plot a grid of generated samples every n'th epoch.\n"
      ],
      "metadata": {
        "id": "q47nx2DWkdu5"
      }
    },
    {
      "cell_type": "code",
      "source": [],
      "metadata": {
        "_uuid": "8f2839f25d086af736a60e9eeb907d3b93b6e0e5",
        "_cell_guid": "b1076dfc-b9ad-4769-8c92-a6c4dae69d19",
        "execution": {
          "iopub.status.busy": "2024-10-19T19:54:16.417618Z",
          "iopub.execute_input": "2024-10-19T19:54:16.418403Z",
          "iopub.status.idle": "2024-10-19T19:54:21.169168Z",
          "shell.execute_reply.started": "2024-10-19T19:54:16.418362Z",
          "shell.execute_reply": "2024-10-19T19:54:21.168212Z"
        },
        "trusted": true,
        "id": "2eScA7OdaftH"
      },
      "outputs": [],
      "execution_count": null
    },
    {
      "cell_type": "markdown",
      "source": [
        "### Part 4: Plot a grid of 100 generated samples."
      ],
      "metadata": {
        "id": "9gs2ILDNk9LL"
      }
    },
    {
      "cell_type": "code",
      "source": [],
      "metadata": {
        "id": "kqd4599Tlol1"
      },
      "execution_count": null,
      "outputs": []
    },
    {
      "cell_type": "markdown",
      "source": [
        "### Part 5: GAN Inversion\n",
        "In this part, we aim to find the latent vectors corresponding to the samples in the dataset. First, select a random sample from the real dataset and a random latent vector. Freeze the generator and feed the random latent vector into the Generator. Next, define an MSE or MAE loss between the generated sample and the real sample, and optimize the random latent vector to discover the latent vector that generates the selected real sample.\n"
      ],
      "metadata": {
        "id": "QZEyGMGcn1cv"
      }
    },
    {
      "cell_type": "code",
      "source": [],
      "metadata": {
        "id": "XBnWN_1EoKJd"
      },
      "execution_count": null,
      "outputs": []
    },
    {
      "cell_type": "markdown",
      "source": [
        "### Part 6: Interpolating the Latent Space\n",
        "In this part, you will interpolate the latent space using a 10 by 10 grid. Start with 4 initial points representing the corners of the square, and then perform linear or spherical interpolation between the latent vectors of these 4 images to fill the circumference of the square.\n",
        "Next, fill in the rest of the square by interpolating between the latent vectors along the circumference.\n",
        "\n",
        "If $G$ is the generator, and $z_1$ and $z_2$ are two latent vectors of two images, let $w$ be a parameter that varies between $0$ and $1$. The linearly interpolated sample is generated as:\n",
        "\n",
        "\\begin{equation}\n",
        "G(w \\cdot z_1 + (1 - w) \\cdot z_2)\\\n",
        "\\end{equation}\n",
        "\n",
        "Try to select the 4 starting images from those that exhibit distinct features. For example, the two top right corners could be the same digit but one with a thick stroke and the other with a thin stroke, while the other two points should be from a different digit but with varying stroke styles."
      ],
      "metadata": {
        "id": "UEpXDpUqlk3i"
      }
    },
    {
      "cell_type": "code",
      "source": [],
      "metadata": {
        "id": "zY5qVWxdlktU"
      },
      "execution_count": null,
      "outputs": []
    },
    {
      "cell_type": "markdown",
      "source": [
        "### Part 7: Arithmetic Operation in Latent Space\n",
        "In this part, you will attempt to modify the thickness or thinness of a sample by identifying the direction in the latent space that corresponds to these attributes. Additionally, you can explore changing a digit to another (e.g., transforming a digit into a 3) by finding the direction in the latent space that corresponds to that digit.\n"
      ],
      "metadata": {
        "id": "jGuKeutypI3-"
      }
    },
    {
      "cell_type": "code",
      "source": [],
      "metadata": {
        "id": "saFLkfBPvcQ5"
      },
      "execution_count": null,
      "outputs": []
    }
  ]
}