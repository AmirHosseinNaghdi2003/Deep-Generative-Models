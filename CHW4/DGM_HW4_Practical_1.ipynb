{
  "cells": [
    {
      "cell_type": "markdown",
      "metadata": {
        "id": "yaR4bCe5beAA"
      },
      "source": [
        "<font face=\"Times New Roman\" size=5>\n",
        "<div dir=rtl align=\"center\">\n",
        "<font face=\"Times New Roman\" size=5>\n",
        "In The Name of God\n",
        "</font>\n",
        "<br>\n",
        "<img src=\"https://logoyar.com/content/wp-content/uploads/2021/04/sharif-university-logo.png\" alt=\"University Logo\" width=\"150\" height=\"150\">\n",
        "<br>\n",
        "<font face=\"Times New Roman\" size=4 align=center>\n",
        "Sharif University of Technology - Department of Electrical Engineering\n",
        "</font>\n",
        "<br>\n",
        "<font color=\"#008080\" size=6>\n",
        "Deep Generative Models\n",
        "</font>\n",
        "\n",
        "<hr/>\n",
        "<font color=\"#800080\" size=5>\n",
        "Assignment 4: Energy-based Models\n",
        "<br>\n",
        "</font>\n",
        "<font size=5>\n",
        "Instructor: Dr. S. Amini\n",
        "<br>\n",
        "</font>\n",
        "<font size=4>\n",
        "Fall 2024\n",
        "<br>\n",
        "</font>\n",
        "<font face=\"Times New Roman\" size=4>\n",
        "Deadline: Month day at 23:55\n",
        "</font>\n",
        "<hr>\n",
        "</div></font>"
      ]
    },
    {
      "cell_type": "markdown",
      "metadata": {
        "id": "DLeVLaOjmdAn"
      },
      "source": [
        "This homework helps you implement a Energy-based Model (EBM).  \n",
        "For references please refer to the original [Implicit Generation and Generalization in Energy-Based Models](https://arxiv.org/abs/1903.08689).\n",
        "\n",
        "In this homework you need to complete the notebook and run all the cells.\n",
        "We have specified the parts to be completed with `TODO` tags inside the code blocks.\n",
        "\n",
        "**NOTES**:\n",
        "* Feel free to change any part of notebook, but remeber to use comments for clarification.\n",
        "* You can get **complete score** for this notebook if your codes work properly and without errors.\n",
        "* This notebook is tested with *Google Colab*."
      ]
    },
    {
      "cell_type": "code",
      "execution_count": 1,
      "metadata": {
        "id": "3cq7tazxbeAF"
      },
      "outputs": [],
      "source": [
        "name = \"AmirHossein Naghdi\"\n",
        "studentId = \"400102169\""
      ]
    },
    {
      "cell_type": "code",
      "source": [
        "!nvidia-smi"
      ],
      "metadata": {
        "id": "Tfr-qPGlcKHv",
        "outputId": "8b5501e5-2ac5-4fbd-f85c-e4af4331c87b",
        "colab": {
          "base_uri": "https://localhost:8080/"
        }
      },
      "execution_count": 2,
      "outputs": [
        {
          "output_type": "stream",
          "name": "stdout",
          "text": [
            "Wed Jan 29 19:42:05 2025       \n",
            "+-----------------------------------------------------------------------------------------+\n",
            "| NVIDIA-SMI 550.54.15              Driver Version: 550.54.15      CUDA Version: 12.4     |\n",
            "|-----------------------------------------+------------------------+----------------------+\n",
            "| GPU  Name                 Persistence-M | Bus-Id          Disp.A | Volatile Uncorr. ECC |\n",
            "| Fan  Temp   Perf          Pwr:Usage/Cap |           Memory-Usage | GPU-Util  Compute M. |\n",
            "|                                         |                        |               MIG M. |\n",
            "|=========================================+========================+======================|\n",
            "|   0  Tesla T4                       Off |   00000000:00:04.0 Off |                    0 |\n",
            "| N/A   41C    P8              9W /   70W |       0MiB /  15360MiB |      0%      Default |\n",
            "|                                         |                        |                  N/A |\n",
            "+-----------------------------------------+------------------------+----------------------+\n",
            "                                                                                         \n",
            "+-----------------------------------------------------------------------------------------+\n",
            "| Processes:                                                                              |\n",
            "|  GPU   GI   CI        PID   Type   Process name                              GPU Memory |\n",
            "|        ID   ID                                                               Usage      |\n",
            "|=========================================================================================|\n",
            "|  No running processes found                                                             |\n",
            "+-----------------------------------------------------------------------------------------+\n"
          ]
        }
      ]
    },
    {
      "cell_type": "code",
      "source": [
        "# Install the correct version of PyTorch with GPU support\n",
        "!pip install torch==2.1.0+cu118 torchvision==0.15.0+cu118 torchaudio==2.1.0+cu118 -f https://download.pytorch.org/whl/torch_stable.html"
      ],
      "metadata": {
        "id": "X6ls5L-YcKLr",
        "outputId": "3965be81-d43b-40f2-fe02-f12ca31a1472",
        "colab": {
          "base_uri": "https://localhost:8080/"
        }
      },
      "execution_count": 3,
      "outputs": [
        {
          "output_type": "stream",
          "name": "stdout",
          "text": [
            "Looking in links: https://download.pytorch.org/whl/torch_stable.html\n",
            "Collecting torch==2.1.0+cu118\n",
            "  Downloading https://download.pytorch.org/whl/cu118/torch-2.1.0%2Bcu118-cp311-cp311-linux_x86_64.whl (2325.9 MB)\n",
            "\u001b[2K     \u001b[90m━━━━━━━━━━━━━━━━━━━━━━━━━━━━━━━━━━━━━━━━\u001b[0m \u001b[32m2.3/2.3 GB\u001b[0m \u001b[31m610.4 kB/s\u001b[0m eta \u001b[36m0:00:00\u001b[0m\n",
            "\u001b[?25hCollecting torchvision==0.15.0+cu118\n",
            "  Downloading https://download.pytorch.org/whl/cu118/torchvision-0.15.0%2Bcu118-cp311-cp311-linux_x86_64.whl (6.1 MB)\n",
            "\u001b[2K     \u001b[90m━━━━━━━━━━━━━━━━━━━━━━━━━━━━━━━━━━━━━━━━\u001b[0m \u001b[32m6.1/6.1 MB\u001b[0m \u001b[31m107.4 MB/s\u001b[0m eta \u001b[36m0:00:00\u001b[0m\n",
            "\u001b[?25hCollecting torchaudio==2.1.0+cu118\n",
            "  Downloading https://download.pytorch.org/whl/cu118/torchaudio-2.1.0%2Bcu118-cp311-cp311-linux_x86_64.whl (3.2 MB)\n",
            "\u001b[2K     \u001b[90m━━━━━━━━━━━━━━━━━━━━━━━━━━━━━━━━━━━━━━━━\u001b[0m \u001b[32m3.2/3.2 MB\u001b[0m \u001b[31m83.1 MB/s\u001b[0m eta \u001b[36m0:00:00\u001b[0m\n",
            "\u001b[?25hRequirement already satisfied: filelock in /usr/local/lib/python3.11/dist-packages (from torch==2.1.0+cu118) (3.17.0)\n",
            "Requirement already satisfied: typing-extensions in /usr/local/lib/python3.11/dist-packages (from torch==2.1.0+cu118) (4.12.2)\n",
            "Requirement already satisfied: sympy in /usr/local/lib/python3.11/dist-packages (from torch==2.1.0+cu118) (1.13.1)\n",
            "Requirement already satisfied: networkx in /usr/local/lib/python3.11/dist-packages (from torch==2.1.0+cu118) (3.4.2)\n",
            "Requirement already satisfied: jinja2 in /usr/local/lib/python3.11/dist-packages (from torch==2.1.0+cu118) (3.1.5)\n",
            "Requirement already satisfied: fsspec in /usr/local/lib/python3.11/dist-packages (from torch==2.1.0+cu118) (2024.10.0)\n",
            "Collecting triton==2.1.0 (from torch==2.1.0+cu118)\n",
            "  Downloading triton-2.1.0-0-cp311-cp311-manylinux2014_x86_64.manylinux_2_17_x86_64.whl.metadata (1.3 kB)\n",
            "Requirement already satisfied: numpy in /usr/local/lib/python3.11/dist-packages (from torchvision==0.15.0+cu118) (1.26.4)\n",
            "Requirement already satisfied: requests in /usr/local/lib/python3.11/dist-packages (from torchvision==0.15.0+cu118) (2.32.3)\n",
            "INFO: pip is looking at multiple versions of torchvision to determine which version is compatible with other requirements. This could take a while.\n",
            "\u001b[31mERROR: Cannot install torch==2.1.0+cu118 and torchvision==0.15.0+cu118 because these package versions have conflicting dependencies.\u001b[0m\u001b[31m\n",
            "\u001b[0m\n",
            "The conflict is caused by:\n",
            "    The user requested torch==2.1.0+cu118\n",
            "    torchvision 0.15.0+cu118 depends on torch==2.0.0+cu118\n",
            "\n",
            "To fix this you could try to:\n",
            "1. loosen the range of package versions you've specified\n",
            "2. remove package versions to allow pip to attempt to solve the dependency conflict\n",
            "\n",
            "\u001b[31mERROR: ResolutionImpossible: for help visit https://pip.pypa.io/en/latest/topics/dependency-resolution/#dealing-with-dependency-conflicts\u001b[0m\u001b[31m\n",
            "\u001b[0m"
          ]
        }
      ]
    },
    {
      "cell_type": "markdown",
      "metadata": {
        "id": "g1OtqJ4Sniak"
      },
      "source": [
        "# Energy-based Models (EBMs) (80 pts)"
      ]
    },
    {
      "cell_type": "markdown",
      "metadata": {
        "id": "du7Y-Baxn-xN"
      },
      "source": [
        "## Introduction"
      ]
    },
    {
      "cell_type": "markdown",
      "metadata": {
        "id": "aHBmIDAen_jf"
      },
      "source": [
        "In this notebook, we will look at energy-based deep learning models, and focus on their application as generative models.\n",
        "\n",
        "First, let's import our libraries below."
      ]
    },
    {
      "cell_type": "code",
      "execution_count": 4,
      "metadata": {
        "colab": {
          "base_uri": "https://localhost:8080/"
        },
        "id": "ibCHvW_xFxAY",
        "outputId": "feadabdc-bd9c-4cc3-f395-cefcdf466e12"
      },
      "outputs": [
        {
          "output_type": "execute_result",
          "data": {
            "text/plain": [
              "device(type='cuda')"
            ]
          },
          "metadata": {},
          "execution_count": 4
        }
      ],
      "source": [
        "# Standard libraries\n",
        "import numpy as np\n",
        "import random\n",
        "\n",
        "## Imports for plotting\n",
        "import matplotlib.pyplot as plt\n",
        "%matplotlib inline\n",
        "\n",
        "## PyTorch\n",
        "import torch\n",
        "import torch.nn as nn\n",
        "import torch.nn.functional as F\n",
        "import torch.optim as optim\n",
        "from torch.utils.data import DataLoader\n",
        "\n",
        "# Torchvision\n",
        "import torchvision\n",
        "from torchvision.datasets import MNIST\n",
        "from torchvision import transforms\n",
        "from torchvision.utils import make_grid\n",
        "\n",
        "device = torch.device('cuda')\n",
        "device"
      ]
    },
    {
      "cell_type": "code",
      "source": [
        "print(torch.cuda.is_available())"
      ],
      "metadata": {
        "id": "hoILZ1BvcS8w",
        "outputId": "3b52ab8b-9c54-44a8-fd6c-b287a00db08c",
        "colab": {
          "base_uri": "https://localhost:8080/"
        }
      },
      "execution_count": 5,
      "outputs": [
        {
          "output_type": "stream",
          "name": "stdout",
          "text": [
            "True\n"
          ]
        }
      ]
    },
    {
      "cell_type": "markdown",
      "metadata": {
        "id": "ZGoeApIVobpz"
      },
      "source": [
        "## Energy Models"
      ]
    },
    {
      "cell_type": "markdown",
      "metadata": {
        "id": "0zuuiSOeof63"
      },
      "source": [
        "As we have seen in the class, Energy-based models tend to predict probability density distribution. For this purpose we need to learn given probability:\n",
        "\n",
        "\n",
        "\n",
        "$p_{\\theta }( x_{train}) =\\frac{e^{f_{\\theta }( x)}}{Z( \\theta )}$\n",
        "\n",
        "\n",
        "\n",
        "Here $p_{\\theta }( x_{train})$ stands for probability density of our training data distribution. We know that calculating the partition function ($Z( \\theta )$) is interactable. For this purpose we will use contrastive divergence algorithm."
      ]
    },
    {
      "cell_type": "markdown",
      "metadata": {
        "id": "nJPqyLVAs0bO"
      },
      "source": [
        "### Contrastive Divergence\n",
        "\n",
        "We train generative models usually by maximum likelihood estimation. But the exact likelihood of a point cannot be determined due to intractable normalization constant $Z(\\theta)$, we need to train energy-based models slightly different. We can re-write our maximum likelihood objective where we maximize the probability of $\\mathbf{x}_{\\text{train}}$ compared to a randomly sampled data point of our model:\n",
        "\n",
        "$$\n",
        "\\begin{split}\n",
        "    \\nabla_{\\theta}\\mathcal{L}_{\\text{MLE}}(\\mathbf{\\theta}) & = \\nabla_{\\theta}\\log p_{\\theta}(\\mathbf{x})\\\\[5pt]\n",
        "    & \\approx  \\nabla_{\\theta}F_{\\theta}(\\mathbf{x_{\\text{train}}}) - \\nabla_{\\theta}F_{\\theta}(\\mathbf{x_{\\text{sample}}})\n",
        "\\end{split}\n",
        "$$\n",
        "\n",
        "Note that the loss is still an objective we want to minimize. Thus, we try to minimize the energy for data points from the dataset, while maximizing the energy for randomly sampled data points from our model. The trick for sampling is that we approximate $Z(\\theta)$ by a single Monte-Carlo sample. This gives us the exact same objective as written above.\n",
        "\n",
        "Visually, the objective is shown below (figure - [Stefano Ermon and Aditya Grover](https://deepgenerativemodels.github.io/assets/slides/cs236_lecture11.pdf)):\n",
        "\n",
        "\n",
        "<center width=\"100%\"><img src=\"https://uvadlc-notebooks.readthedocs.io/en/latest/_images/contrastive_divergence.svg\" width=\"90%\"></center>\n",
        "\n",
        "\n",
        "The point on the right, called \"correct answer\", represents a data point from the dataset (i.e. $x_{\\text{train}}$), and the left point, \"wrong answer\", a sample from our model (i.e. $x_{\\text{sample}}$). Thus, we try to \"pull up\" the probability of the data points in the dataset, while \"pushing down\" randomly sampled points."
      ]
    },
    {
      "cell_type": "markdown",
      "metadata": {
        "id": "fTyS6sxkxP31"
      },
      "source": [
        "### Dataset\n",
        "\n",
        "First, we load the MNIST dataset below. Note that we need to normalize the images between -1 and 1 instead of mean 0 and std 1 because during sampling, we have to limit the input space. Scaling between -1 and 1 makes it easier to implement it."
      ]
    },
    {
      "cell_type": "code",
      "execution_count": 8,
      "metadata": {
        "collapsed": true,
        "id": "W4k9hWDluSnj",
        "colab": {
          "base_uri": "https://localhost:8080/"
        },
        "outputId": "7f08aa6c-ff7a-46a0-fd06-95c4d856d2db"
      },
      "outputs": [
        {
          "output_type": "stream",
          "name": "stdout",
          "text": [
            "Downloading http://yann.lecun.com/exdb/mnist/train-images-idx3-ubyte.gz\n",
            "Failed to download (trying next):\n",
            "<urlopen error [Errno 111] Connection refused>\n",
            "\n",
            "Downloading https://ossci-datasets.s3.amazonaws.com/mnist/train-images-idx3-ubyte.gz\n",
            "Downloading https://ossci-datasets.s3.amazonaws.com/mnist/train-images-idx3-ubyte.gz to ./MNIST/raw/train-images-idx3-ubyte.gz\n"
          ]
        },
        {
          "output_type": "stream",
          "name": "stderr",
          "text": [
            "100%|██████████| 9.91M/9.91M [00:00<00:00, 15.8MB/s]\n"
          ]
        },
        {
          "output_type": "stream",
          "name": "stdout",
          "text": [
            "Extracting ./MNIST/raw/train-images-idx3-ubyte.gz to ./MNIST/raw\n",
            "\n",
            "Downloading http://yann.lecun.com/exdb/mnist/train-labels-idx1-ubyte.gz\n",
            "Failed to download (trying next):\n",
            "<urlopen error [Errno 111] Connection refused>\n",
            "\n",
            "Downloading https://ossci-datasets.s3.amazonaws.com/mnist/train-labels-idx1-ubyte.gz\n",
            "Downloading https://ossci-datasets.s3.amazonaws.com/mnist/train-labels-idx1-ubyte.gz to ./MNIST/raw/train-labels-idx1-ubyte.gz\n"
          ]
        },
        {
          "output_type": "stream",
          "name": "stderr",
          "text": [
            "100%|██████████| 28.9k/28.9k [00:00<00:00, 487kB/s]\n"
          ]
        },
        {
          "output_type": "stream",
          "name": "stdout",
          "text": [
            "Extracting ./MNIST/raw/train-labels-idx1-ubyte.gz to ./MNIST/raw\n",
            "\n",
            "Downloading http://yann.lecun.com/exdb/mnist/t10k-images-idx3-ubyte.gz\n",
            "Failed to download (trying next):\n",
            "<urlopen error [Errno 111] Connection refused>\n",
            "\n",
            "Downloading https://ossci-datasets.s3.amazonaws.com/mnist/t10k-images-idx3-ubyte.gz\n",
            "Downloading https://ossci-datasets.s3.amazonaws.com/mnist/t10k-images-idx3-ubyte.gz to ./MNIST/raw/t10k-images-idx3-ubyte.gz\n"
          ]
        },
        {
          "output_type": "stream",
          "name": "stderr",
          "text": [
            "100%|██████████| 1.65M/1.65M [00:00<00:00, 4.43MB/s]\n"
          ]
        },
        {
          "output_type": "stream",
          "name": "stdout",
          "text": [
            "Extracting ./MNIST/raw/t10k-images-idx3-ubyte.gz to ./MNIST/raw\n",
            "\n",
            "Downloading http://yann.lecun.com/exdb/mnist/t10k-labels-idx1-ubyte.gz\n",
            "Failed to download (trying next):\n",
            "<urlopen error [Errno 111] Connection refused>\n",
            "\n",
            "Downloading https://ossci-datasets.s3.amazonaws.com/mnist/t10k-labels-idx1-ubyte.gz\n",
            "Downloading https://ossci-datasets.s3.amazonaws.com/mnist/t10k-labels-idx1-ubyte.gz to ./MNIST/raw/t10k-labels-idx1-ubyte.gz\n"
          ]
        },
        {
          "output_type": "stream",
          "name": "stderr",
          "text": [
            "100%|██████████| 4.54k/4.54k [00:00<00:00, 2.79MB/s]"
          ]
        },
        {
          "output_type": "stream",
          "name": "stdout",
          "text": [
            "Extracting ./MNIST/raw/t10k-labels-idx1-ubyte.gz to ./MNIST/raw\n",
            "\n"
          ]
        },
        {
          "output_type": "stream",
          "name": "stderr",
          "text": [
            "\n"
          ]
        }
      ],
      "source": [
        "from torchvision.transforms import Compose, ToTensor, Normalize\n",
        "\n",
        "BATCH_SIZE = 64\n",
        "\n",
        "transform = Compose([\n",
        "    ToTensor(),\n",
        "    Normalize((0.5,), (0.5,))  # Normalize to range [-1, 1]\n",
        "])\n",
        "\n",
        "train_set = MNIST(root='./', train=True, transform=transform, download=True)\n",
        "test_set = MNIST(root='./', train=False, transform=transform, download=True)\n",
        "\n",
        "train_loader = DataLoader(train_set, batch_size=BATCH_SIZE, shuffle=True, drop_last=True, pin_memory=True)\n",
        "test_loader = DataLoader(test_set, batch_size=BATCH_SIZE, shuffle=False, drop_last=False)\n"
      ]
    },
    {
      "cell_type": "markdown",
      "metadata": {
        "id": "gOqx1hQTxjL7"
      },
      "source": [
        "### CNN Model\n",
        "\n",
        "First, we implement our CNN model. The MNIST images are 28x28, hence a small model is enough. But you are free to use pre-trained Convolution Networks (such as Resnet, etc.)\n",
        "\n",
        "Here we use a smooth activation function like Swish instead of ReLU in the energy model. This is because gradients should not be sparse."
      ]
    },
    {
      "cell_type": "code",
      "execution_count": 9,
      "metadata": {
        "id": "SsURXgNLM-gq"
      },
      "outputs": [],
      "source": [
        "class Swish(nn.Module):\n",
        "\n",
        "    def forward(self, x):\n",
        "        return x * torch.sigmoid(x)\n",
        "\n",
        "\n",
        "class CNNModel(nn.Module):\n",
        "\n",
        "    def __init__(self, hidden_features=32, out_dim=1, **kwargs):\n",
        "        super().__init__()\n",
        "        # We increase the hidden dimension over layers. Here pre-calculated for simplicity.\n",
        "        c_hid1 = hidden_features//2\n",
        "        c_hid2 = hidden_features\n",
        "        c_hid3 = hidden_features*2\n",
        "\n",
        "        # Series of convolutions and Swish activation functions\n",
        "        self.cnn_layers = nn.Sequential(\n",
        "                nn.Conv2d(1, c_hid1, kernel_size=5, stride=2, padding=4), # [16x16] - Larger padding to get 32x32 image\n",
        "                Swish(),\n",
        "                nn.Conv2d(c_hid1, c_hid2, kernel_size=3, stride=2, padding=1), #  [8x8]\n",
        "                Swish(),\n",
        "                nn.Conv2d(c_hid2, c_hid3, kernel_size=3, stride=2, padding=1), # [4x4]\n",
        "                Swish(),\n",
        "                nn.Conv2d(c_hid3, c_hid3, kernel_size=3, stride=2, padding=1), # [2x2]\n",
        "                Swish(),\n",
        "                nn.Flatten(),\n",
        "                nn.Linear(c_hid3*4, c_hid3),\n",
        "                Swish(),\n",
        "                nn.Linear(c_hid3, out_dim)\n",
        "        )\n",
        "\n",
        "    def forward(self, x):\n",
        "        x = self.cnn_layers(x).squeeze(dim=-1)\n",
        "        return x"
      ]
    },
    {
      "cell_type": "markdown",
      "metadata": {
        "id": "Npjk5kVwxy94"
      },
      "source": [
        "### Sampling buffer\n",
        "\n",
        "In this part, we construct our sampler. To use the contrastive divergence objective, we need to generate samples during training. The simple way to sampling is to use simple MCMC algorithm, but in practice it costs too much. So here we use *Langevin MCMC* that uses gradient for better sampling.\n",
        "\n",
        "<center width=\"100%\"><img src=\"https://uvadlc-notebooks.readthedocs.io/en/latest/_images/sampling.svg\" width=\"90%\"></center>\n",
        "\n",
        "Below, we implement the sampling class. The function `sample_new_exmps` returns a new batch of \"fake\" images . These images are generated using MCMC. For more efficiency, each time we only generate 5% of sample size and other 95% are randomly picked from our buffer. We perform MCMC for 80 iterations to improve the image quality and come closer to samples from $p_{\\theta}(\\mathbf{x})$. In the function `generate_samples`, we implemented the MCMC for images. Note that the hyperparameters in this code are for MNIST dataset."
      ]
    },
    {
      "cell_type": "code",
      "execution_count": 10,
      "metadata": {
        "id": "cxaaO617W5Wp"
      },
      "outputs": [],
      "source": [
        "class Sampler:\n",
        "\n",
        "    def __init__(self, model, img_shape, sample_size, max_len=8192):\n",
        "        \"\"\"\n",
        "        Inputs:\n",
        "            model - Neural network to use for modeling E_theta\n",
        "            img_shape - Shape of the images to model\n",
        "            sample_size - Batch size of the samples\n",
        "            max_len - Maximum number of data points to keep in the buffer\n",
        "        \"\"\"\n",
        "        super().__init__()\n",
        "        self.model = model\n",
        "        self.img_shape = img_shape\n",
        "        self.sample_size = sample_size\n",
        "        self.max_len = max_len\n",
        "        self.examples = [(torch.rand((1,)+img_shape)*2-1) for _ in range(self.sample_size)]\n",
        "\n",
        "    def sample_new_exmps(self, steps=60, step_size=10):\n",
        "        \"\"\"\n",
        "        Function for getting a new batch of \"fake\" images.\n",
        "        Inputs:\n",
        "            steps - Number of iterations in the MCMC algorithm\n",
        "            step_size - Learning rate nu in the algorithm above\n",
        "        \"\"\"\n",
        "        # Choose 95% of the batch from the buffer, 5% generate from scratch\n",
        "        n_new = np.random.binomial(self.sample_size, 0.05)\n",
        "        rand_imgs = torch.rand((n_new,) + self.img_shape) * 2 - 1\n",
        "        old_imgs = torch.cat(random.choices(self.examples, k=self.sample_size-n_new), dim=0)\n",
        "        inp_imgs = torch.cat([rand_imgs, old_imgs], dim=0).detach().to(device)\n",
        "\n",
        "        # Perform MCMC sampling\n",
        "        inp_imgs = Sampler.generate_samples(self.model, inp_imgs, steps=steps, step_size=step_size)\n",
        "\n",
        "        # Add new images to the buffer and remove old ones if needed\n",
        "        self.examples = list(inp_imgs.to(torch.device(\"cpu\")).chunk(self.sample_size, dim=0)) + self.examples\n",
        "        self.examples = self.examples[:self.max_len]\n",
        "        return inp_imgs\n",
        "\n",
        "    @staticmethod\n",
        "    def generate_samples(model, inp_imgs, steps=60, step_size=10, return_img_per_step=False):\n",
        "        \"\"\"\n",
        "        Function for sampling images for a given model.\n",
        "        Inputs:\n",
        "            model - Neural network to use for modeling E_theta\n",
        "            inp_imgs - Images to start from for sampling. If you want to generate new images, enter noise between -1 and 1.\n",
        "            steps - Number of iterations in the MCMC algorithm.\n",
        "            step_size - Learning rate nu in the algorithm above\n",
        "            return_img_per_step - If True, we return the sample at every iteration of the MCMC\n",
        "        \"\"\"\n",
        "        # Before MCMC: set model parameters to \"required_grad=False\"\n",
        "        # because we are only interested in the gradients of the input.\n",
        "        is_training = model.training\n",
        "        model.eval()\n",
        "        for p in model.parameters():\n",
        "            p.requires_grad = False\n",
        "        inp_imgs.requires_grad = True\n",
        "\n",
        "        # Enable gradient calculation if not already the case\n",
        "        had_gradients_enabled = torch.is_grad_enabled()\n",
        "        torch.set_grad_enabled(True)\n",
        "\n",
        "        # We use a buffer tensor in which we generate noise each loop iteration.\n",
        "        # More efficient than creating a new tensor every iteration.\n",
        "        noise = torch.randn(inp_imgs.shape, device=inp_imgs.device)\n",
        "\n",
        "        # List for storing generations at each step (for later analysis)\n",
        "        imgs_per_step = []\n",
        "\n",
        "        # Loop over K (steps)\n",
        "        for _ in range(steps):\n",
        "            # Part 1: Add noise to the input.\n",
        "            noise.normal_(0, 0.005)\n",
        "            inp_imgs.data.add_(noise.data)\n",
        "            inp_imgs.data.clamp_(min=-1.0, max=1.0)\n",
        "\n",
        "            # Part 2: calculate gradients for the current input.\n",
        "            out_imgs = -model(inp_imgs)\n",
        "            out_imgs.sum().backward()\n",
        "            inp_imgs.grad.data.clamp_(-0.03, 0.03) # For stabilizing and preventing too high gradients\n",
        "\n",
        "            # Apply gradients to our current samples\n",
        "            inp_imgs.data.add_(-step_size * inp_imgs.grad.data)\n",
        "            inp_imgs.grad.detach_()\n",
        "            inp_imgs.grad.zero_()\n",
        "            inp_imgs.data.clamp_(min=-1.0, max=1.0)\n",
        "\n",
        "            if return_img_per_step:\n",
        "                imgs_per_step.append(inp_imgs.clone().detach())\n",
        "\n",
        "        # Reactivate gradients for parameters for training\n",
        "        for p in model.parameters():\n",
        "            p.requires_grad = True\n",
        "        model.train(is_training)\n",
        "\n",
        "        # Reset gradient calculation to setting before this function\n",
        "        torch.set_grad_enabled(had_gradients_enabled)\n",
        "\n",
        "        if return_img_per_step:\n",
        "            return torch.stack(imgs_per_step, dim=0)\n",
        "        else:\n",
        "            return inp_imgs"
      ]
    },
    {
      "cell_type": "markdown",
      "metadata": {
        "id": "YSLSbpj5z94m"
      },
      "source": [
        "### Training algorithm\n",
        "\n",
        "Below is shown a summary of the full training algorithm of an energy model:\n",
        "\n",
        "<center width=\"100%\"><img src=\"https://uvadlc-notebooks.readthedocs.io/en/latest/_images/training_algorithm.svg\" width=\"80%\"></center>\n",
        "\n",
        "Given algorithm, for each batch of data we're going to, first, add a small noise to image, then we sample a fake image using `sample_new_example`. After this we feed these images to our `Model`. At the end we use our `ebm_loss` to calculate loss and backward to complete our trainig.\n",
        "\n",
        "For evaluation we use almost the same structure as our training, but with a different loss.\n",
        "\n",
        "After training phase we're going to use `generate_image` to sample from our model (generate images)."
      ]
    },
    {
      "cell_type": "code",
      "execution_count": 11,
      "metadata": {
        "id": "igfcMKn6fcsx"
      },
      "outputs": [],
      "source": [
        "from tqdm import tqdm\n",
        "\n",
        "# Implement the given algorithm\n",
        "# In order to complete code you have to add the small noise to image\n",
        "# Sample a fake image\n",
        "# Feed both real image and fake image to the network\n",
        "# And use the ebm loss\n",
        "def train_one_epoch(model, train_loader, optimizer, sampler, alpha):\n",
        "    \"\"\"\n",
        "    Input:\n",
        "        model: implemented CNN\n",
        "        train_loader: train Dataloader\n",
        "        optimizer: Optimizer to optimize model\n",
        "        sampler: Sampler to generate samples\n",
        "        alpha: hyperparameter for loss\n",
        "    Returns:\n",
        "        float: Epoch loss\n",
        "    \"\"\"\n",
        "    model.train()\n",
        "    epoch_loss = 0\n",
        "    for batch_idx, (real_imgs, _) in enumerate(tqdm(train_loader, desc=\"Training Progress\")):\n",
        "\n",
        "        # Add minimal noise to the original images\n",
        "        small_noise = torch.randn_like(real_imgs) * 0.005\n",
        "        real_imgs.add_(small_noise).clamp_(min=-1.0, max=1.0)\n",
        "\n",
        "        # Obtain fake samples\n",
        "        fake_imgs = sampler.sample_new_exmps(steps=80, step_size=10)\n",
        "\n",
        "        # Predict energy score for all images\n",
        "        inp_imgs = torch.cat([real_imgs.to(device), fake_imgs.to(device)], dim=0)\n",
        "        real_out, fake_out = model(inp_imgs).chunk(2, dim=0)\n",
        "\n",
        "        # Calculate losses\n",
        "        loss = ebm_loss(real_out,fake_out,alpha)\n",
        "\n",
        "        # Backpropagation\n",
        "        optimizer.zero_grad()\n",
        "        loss.backward()\n",
        "        optimizer.step()\n",
        "\n",
        "        # Logging\n",
        "        epoch_loss += loss.item()\n",
        "\n",
        "    return epoch_loss / len(train_loader)\n",
        "\n",
        "def test_one_epoch(model, test_loader):\n",
        "    \"\"\"\n",
        "    Input:\n",
        "        model: implemented CNN\n",
        "        test_loader: test Dataloader\n",
        "    Returns:\n",
        "        float: Contrastive divergence\n",
        "    \"\"\"\n",
        "    model.eval()\n",
        "    cdiv = 0\n",
        "    with torch.no_grad():\n",
        "        for imgs, _ in tqdm(test_loader, desc=\"Validation Progress\"):\n",
        "            # Move data to device\n",
        "            imgs = imgs.to(device)\n",
        "\n",
        "            # Generate purely random fake images\n",
        "            fake_imgs = torch.rand_like(imgs) * 2 - 1\n",
        "\n",
        "            # Calculate model outputs\n",
        "            real_out = model(imgs)\n",
        "            fake_out = model(fake_imgs)\n",
        "\n",
        "            # Compute contrastive divergence\n",
        "            cdiv += (fake_out.mean() - real_out.mean()).item()\n",
        "\n",
        "    return cdiv / len(test_loader)\n",
        "\n",
        "# Implement sample generator\n",
        "# Create a random noise using image shape and sample size\n",
        "# Use generate_samples to get samples\n",
        "def generate_image(model, sampler, sample_size, steps=256, step_size=0.01):\n",
        "    \"\"\"\n",
        "    Input:\n",
        "        model: implemented CNN\n",
        "        sampler: instance of Sampler class\n",
        "        sample_size: number of samples to generate\n",
        "        steps: number of Langevin steps for each sample generation\n",
        "        step_size: step size for Langevin dynamics\n",
        "    Returns:\n",
        "        torch.Tensor: Generated images of shape [sample_size, *img_shape]\n",
        "    \"\"\"\n",
        "    # Ensure the model is in evaluation mode\n",
        "    model.eval()\n",
        "\n",
        "    # Store all generated samples\n",
        "    generated_samples = []\n",
        "    start_imgs = (torch.rand((1,)+(1, 28, 28))*2-1).to(device)\n",
        "    # Generate the required number of samples\n",
        "    with tqdm(range(sample_size), desc=\"Generating Samples\") as pbar:\n",
        "        for _ in pbar:\n",
        "            # Use sampler to get the newest samples\n",
        "            newest_sample = sampler.generate_samples(model, start_imgs, steps=300, step_size=10, return_img_per_step=False)\n",
        "\n",
        "            generated_samples.append(newest_sample[0])  # Append the first sample\n",
        "\n",
        "    # Stack all samples into a tensor\n",
        "    return torch.stack(generated_samples, dim=0)\n"
      ]
    },
    {
      "cell_type": "markdown",
      "metadata": {
        "id": "31y_cfcQ2HIT"
      },
      "source": [
        "### Loss\n",
        "\n",
        "Here we define our Energy-based Model loss. EBM loss consist of two different losses.\n",
        "\n",
        "\n",
        "1.   Contrastive divergence using our energy model $f_{\\theta}$\n",
        "2.   Regularization term is additional training trick to ensure that the output values are in a reasonable range. Without this regularization loss, the output values will fluctuate in a very large range\n",
        "\n",
        "`alpha` is a hyperparameter for regularization term ($\\alpha<1$)"
      ]
    },
    {
      "cell_type": "code",
      "execution_count": 12,
      "metadata": {
        "id": "wRdi2N92gO8k"
      },
      "outputs": [],
      "source": [
        "# Implement the given EBM loss\n",
        "def ebm_loss(real, fake, alpha):\n",
        "    \"\"\"\n",
        "    Compute Energy-based Model (EBM) loss.\n",
        "\n",
        "    Inputs:\n",
        "        real - Tensor of model outputs for real images\n",
        "        fake - Tensor of model outputs for fake images\n",
        "        alpha - Regularization term weight (alpha >= 0)\n",
        "\n",
        "    Returns:\n",
        "        loss - Computed EBM loss\n",
        "    \"\"\"\n",
        "    reg_loss = alpha * (real ** 2 + fake ** 2).mean()\n",
        "    cdiv_loss = fake.mean() - real.mean()\n",
        "    # Total EBM loss\n",
        "    loss = reg_loss +  cdiv_loss\n",
        "\n",
        "    return loss\n"
      ]
    },
    {
      "cell_type": "markdown",
      "metadata": {
        "id": "vnvmOWcV27zS"
      },
      "source": [
        "### Instantiation\n",
        "\n",
        "Instantiat your **Model**, **Sampler** and **Optimizer**."
      ]
    },
    {
      "cell_type": "code",
      "execution_count": 13,
      "metadata": {
        "id": "EnRpbTiibanv"
      },
      "outputs": [],
      "source": [
        "# Hyperparameters\n",
        "lr = 1e-4  # Learning rate\n",
        "alpha = 0.1  # Regularization weight (should be less than 1)\n",
        "img_shape = (1, 28, 28)  # MNIST-like grayscale images (1 channel, 28x28 pixels)\n",
        "\n",
        "# Instantiate Model, Optimizer, and Sampler\n",
        "model = CNNModel().to(device)\n",
        "optimizer = optim.Adam(model.parameters(), lr=lr)\n",
        "sampler = Sampler(model, img_shape, BATCH_SIZE)"
      ]
    },
    {
      "cell_type": "markdown",
      "metadata": {
        "id": "Mfmi6-_y3Xdv"
      },
      "source": [
        "### Train Loop\n",
        "\n",
        "Train your model and print loss for each epoch."
      ]
    },
    {
      "cell_type": "code",
      "execution_count": 14,
      "metadata": {
        "colab": {
          "base_uri": "https://localhost:8080/"
        },
        "id": "p2TpMlFaxJYS",
        "outputId": "0200d696-922a-49de-8621-7d28ae46e572"
      },
      "outputs": [
        {
          "metadata": {
            "tags": null
          },
          "name": "stdout",
          "output_type": "stream",
          "text": [
            "Epoch 1: \n"
          ]
        },
        {
          "metadata": {
            "tags": null
          },
          "name": "stderr",
          "output_type": "stream",
          "text": [
            "Training Progress: 100%|██████████| 937/937 [02:46<00:00,  5.63it/s]\n"
          ]
        },
        {
          "metadata": {
            "tags": null
          },
          "name": "stdout",
          "output_type": "stream",
          "text": [
            "Train Loss = -0.0117\n"
          ]
        },
        {
          "metadata": {
            "tags": null
          },
          "name": "stderr",
          "output_type": "stream",
          "text": [
            "Validation Progress: 100%|██████████| 157/157 [00:02<00:00, 72.16it/s]\n"
          ]
        },
        {
          "metadata": {
            "tags": null
          },
          "name": "stdout",
          "output_type": "stream",
          "text": [
            "Test Contrastive Divergence: -1.2238\n",
            "Epoch 2: \n"
          ]
        },
        {
          "metadata": {
            "tags": null
          },
          "name": "stderr",
          "output_type": "stream",
          "text": [
            "Training Progress: 100%|██████████| 937/937 [02:42<00:00,  5.76it/s]\n"
          ]
        },
        {
          "metadata": {
            "tags": null
          },
          "name": "stdout",
          "output_type": "stream",
          "text": [
            "Train Loss = -0.0008\n"
          ]
        },
        {
          "metadata": {
            "tags": null
          },
          "name": "stderr",
          "output_type": "stream",
          "text": [
            "Validation Progress: 100%|██████████| 157/157 [00:02<00:00, 74.89it/s]\n"
          ]
        },
        {
          "metadata": {
            "tags": null
          },
          "name": "stdout",
          "output_type": "stream",
          "text": [
            "Test Contrastive Divergence: -1.8108\n",
            "Epoch 3: \n"
          ]
        },
        {
          "metadata": {
            "tags": null
          },
          "name": "stderr",
          "output_type": "stream",
          "text": [
            "Training Progress: 100%|██████████| 937/937 [02:41<00:00,  5.81it/s]\n"
          ]
        },
        {
          "metadata": {
            "tags": null
          },
          "name": "stdout",
          "output_type": "stream",
          "text": [
            "Train Loss = -0.0006\n"
          ]
        },
        {
          "metadata": {
            "tags": null
          },
          "name": "stderr",
          "output_type": "stream",
          "text": [
            "Validation Progress: 100%|██████████| 157/157 [00:02<00:00, 74.50it/s]\n"
          ]
        },
        {
          "metadata": {
            "tags": null
          },
          "name": "stdout",
          "output_type": "stream",
          "text": [
            "Test Contrastive Divergence: -2.5077\n",
            "Epoch 4: \n"
          ]
        },
        {
          "metadata": {
            "tags": null
          },
          "name": "stderr",
          "output_type": "stream",
          "text": [
            "Training Progress: 100%|██████████| 937/937 [02:41<00:00,  5.81it/s]\n"
          ]
        },
        {
          "metadata": {
            "tags": null
          },
          "name": "stdout",
          "output_type": "stream",
          "text": [
            "Train Loss = -0.0003\n"
          ]
        },
        {
          "metadata": {
            "tags": null
          },
          "name": "stderr",
          "output_type": "stream",
          "text": [
            "Validation Progress: 100%|██████████| 157/157 [00:02<00:00, 74.17it/s]\n"
          ]
        },
        {
          "metadata": {
            "tags": null
          },
          "name": "stdout",
          "output_type": "stream",
          "text": [
            "Test Contrastive Divergence: -2.9783\n",
            "Epoch 5: \n"
          ]
        },
        {
          "metadata": {
            "tags": null
          },
          "name": "stderr",
          "output_type": "stream",
          "text": [
            "Training Progress: 100%|██████████| 937/937 [02:40<00:00,  5.83it/s]\n"
          ]
        },
        {
          "metadata": {
            "tags": null
          },
          "name": "stdout",
          "output_type": "stream",
          "text": [
            "Train Loss = -0.0003\n"
          ]
        },
        {
          "metadata": {
            "tags": null
          },
          "name": "stderr",
          "output_type": "stream",
          "text": [
            "Validation Progress: 100%|██████████| 157/157 [00:02<00:00, 75.95it/s]\n"
          ]
        },
        {
          "metadata": {
            "tags": null
          },
          "name": "stdout",
          "output_type": "stream",
          "text": [
            "Test Contrastive Divergence: -3.6737\n",
            "Epoch 6: \n"
          ]
        },
        {
          "metadata": {
            "tags": null
          },
          "name": "stderr",
          "output_type": "stream",
          "text": [
            "Training Progress: 100%|██████████| 937/937 [02:40<00:00,  5.83it/s]\n"
          ]
        },
        {
          "metadata": {
            "tags": null
          },
          "name": "stdout",
          "output_type": "stream",
          "text": [
            "Train Loss = -0.0001\n"
          ]
        },
        {
          "metadata": {
            "tags": null
          },
          "name": "stderr",
          "output_type": "stream",
          "text": [
            "Validation Progress: 100%|██████████| 157/157 [00:02<00:00, 60.72it/s]\n"
          ]
        },
        {
          "metadata": {
            "tags": null
          },
          "name": "stdout",
          "output_type": "stream",
          "text": [
            "Test Contrastive Divergence: -4.2790\n",
            "Epoch 7: \n"
          ]
        },
        {
          "metadata": {
            "tags": null
          },
          "name": "stderr",
          "output_type": "stream",
          "text": [
            "Training Progress: 100%|██████████| 937/937 [02:41<00:00,  5.82it/s]\n"
          ]
        },
        {
          "metadata": {
            "tags": null
          },
          "name": "stdout",
          "output_type": "stream",
          "text": [
            "Train Loss = -0.0002\n"
          ]
        },
        {
          "metadata": {
            "tags": null
          },
          "name": "stderr",
          "output_type": "stream",
          "text": [
            "Validation Progress: 100%|██████████| 157/157 [00:02<00:00, 74.24it/s]\n"
          ]
        },
        {
          "metadata": {
            "tags": null
          },
          "name": "stdout",
          "output_type": "stream",
          "text": [
            "Test Contrastive Divergence: -4.8343\n",
            "Epoch 8: \n"
          ]
        },
        {
          "metadata": {
            "tags": null
          },
          "name": "stderr",
          "output_type": "stream",
          "text": [
            "Training Progress: 100%|██████████| 937/937 [02:41<00:00,  5.80it/s]\n"
          ]
        },
        {
          "metadata": {
            "tags": null
          },
          "name": "stdout",
          "output_type": "stream",
          "text": [
            "Train Loss = 0.0000\n"
          ]
        },
        {
          "metadata": {
            "tags": null
          },
          "name": "stderr",
          "output_type": "stream",
          "text": [
            "Validation Progress: 100%|██████████| 157/157 [00:02<00:00, 75.25it/s]\n"
          ]
        },
        {
          "metadata": {
            "tags": null
          },
          "name": "stdout",
          "output_type": "stream",
          "text": [
            "Test Contrastive Divergence: -5.1951\n",
            "Epoch 9: \n"
          ]
        },
        {
          "metadata": {
            "tags": null
          },
          "name": "stderr",
          "output_type": "stream",
          "text": [
            "Training Progress: 100%|██████████| 937/937 [02:41<00:00,  5.79it/s]\n"
          ]
        },
        {
          "metadata": {
            "tags": null
          },
          "name": "stdout",
          "output_type": "stream",
          "text": [
            "Train Loss = -0.0001\n"
          ]
        },
        {
          "metadata": {
            "tags": null
          },
          "name": "stderr",
          "output_type": "stream",
          "text": [
            "Validation Progress: 100%|██████████| 157/157 [00:02<00:00, 74.65it/s]\n"
          ]
        },
        {
          "metadata": {
            "tags": null
          },
          "name": "stdout",
          "output_type": "stream",
          "text": [
            "Test Contrastive Divergence: -5.9520\n",
            "Epoch 10: \n"
          ]
        },
        {
          "metadata": {
            "tags": null
          },
          "name": "stderr",
          "output_type": "stream",
          "text": [
            "Training Progress: 100%|██████████| 937/937 [02:40<00:00,  5.83it/s]\n"
          ]
        },
        {
          "metadata": {
            "tags": null
          },
          "name": "stdout",
          "output_type": "stream",
          "text": [
            "Train Loss = -0.0001\n"
          ]
        },
        {
          "metadata": {
            "tags": null
          },
          "name": "stderr",
          "output_type": "stream",
          "text": [
            "Validation Progress: 100%|██████████| 157/157 [00:02<00:00, 75.31it/s]\n"
          ]
        },
        {
          "metadata": {
            "tags": null
          },
          "name": "stdout",
          "output_type": "stream",
          "text": [
            "Test Contrastive Divergence: -6.6361\n",
            "Epoch 11: \n"
          ]
        },
        {
          "metadata": {
            "tags": null
          },
          "name": "stderr",
          "output_type": "stream",
          "text": [
            "Training Progress: 100%|██████████| 937/937 [02:39<00:00,  5.86it/s]\n"
          ]
        },
        {
          "metadata": {
            "tags": null
          },
          "name": "stdout",
          "output_type": "stream",
          "text": [
            "Train Loss = -0.0001\n"
          ]
        },
        {
          "metadata": {
            "tags": null
          },
          "name": "stderr",
          "output_type": "stream",
          "text": [
            "Validation Progress: 100%|██████████| 157/157 [00:02<00:00, 59.67it/s]\n"
          ]
        },
        {
          "metadata": {
            "tags": null
          },
          "name": "stdout",
          "output_type": "stream",
          "text": [
            "Test Contrastive Divergence: -7.2762\n",
            "Epoch 12: \n"
          ]
        },
        {
          "metadata": {
            "tags": null
          },
          "name": "stderr",
          "output_type": "stream",
          "text": [
            "Training Progress: 100%|██████████| 937/937 [02:41<00:00,  5.79it/s]\n"
          ]
        },
        {
          "metadata": {
            "tags": null
          },
          "name": "stdout",
          "output_type": "stream",
          "text": [
            "Train Loss = -0.0001\n"
          ]
        },
        {
          "metadata": {
            "tags": null
          },
          "name": "stderr",
          "output_type": "stream",
          "text": [
            "Validation Progress: 100%|██████████| 157/157 [00:02<00:00, 74.81it/s]\n"
          ]
        },
        {
          "metadata": {
            "tags": null
          },
          "name": "stdout",
          "output_type": "stream",
          "text": [
            "Test Contrastive Divergence: -7.6661\n",
            "Epoch 13: \n"
          ]
        },
        {
          "metadata": {
            "tags": null
          },
          "name": "stderr",
          "output_type": "stream",
          "text": [
            "Training Progress: 100%|██████████| 937/937 [02:40<00:00,  5.83it/s]\n"
          ]
        },
        {
          "metadata": {
            "tags": null
          },
          "name": "stdout",
          "output_type": "stream",
          "text": [
            "Train Loss = -0.0000\n"
          ]
        },
        {
          "metadata": {
            "tags": null
          },
          "name": "stderr",
          "output_type": "stream",
          "text": [
            "Validation Progress: 100%|██████████| 157/157 [00:02<00:00, 74.58it/s]\n"
          ]
        },
        {
          "metadata": {
            "tags": null
          },
          "name": "stdout",
          "output_type": "stream",
          "text": [
            "Test Contrastive Divergence: -8.1221\n",
            "Epoch 14: \n"
          ]
        },
        {
          "output_type": "stream",
          "name": "stderr",
          "text": [
            "Training Progress: 100%|██████████| 937/937 [02:42<00:00,  5.76it/s]\n"
          ]
        },
        {
          "output_type": "stream",
          "name": "stdout",
          "text": [
            "Train Loss = -0.0000\n"
          ]
        },
        {
          "output_type": "stream",
          "name": "stderr",
          "text": [
            "Validation Progress: 100%|██████████| 157/157 [00:02<00:00, 70.25it/s]\n"
          ]
        },
        {
          "output_type": "stream",
          "name": "stdout",
          "text": [
            "Test Contrastive Divergence: -8.6028\n",
            "Epoch 15: \n"
          ]
        },
        {
          "output_type": "stream",
          "name": "stderr",
          "text": [
            "Training Progress: 100%|██████████| 937/937 [02:41<00:00,  5.80it/s]\n"
          ]
        },
        {
          "output_type": "stream",
          "name": "stdout",
          "text": [
            "Train Loss = 0.0000\n"
          ]
        },
        {
          "output_type": "stream",
          "name": "stderr",
          "text": [
            "Validation Progress: 100%|██████████| 157/157 [00:02<00:00, 60.55it/s]\n"
          ]
        },
        {
          "output_type": "stream",
          "name": "stdout",
          "text": [
            "Test Contrastive Divergence: -8.7280\n",
            "Epoch 16: \n"
          ]
        },
        {
          "output_type": "stream",
          "name": "stderr",
          "text": [
            "Training Progress: 100%|██████████| 937/937 [02:40<00:00,  5.84it/s]\n"
          ]
        },
        {
          "output_type": "stream",
          "name": "stdout",
          "text": [
            "Train Loss = -0.0000\n"
          ]
        },
        {
          "output_type": "stream",
          "name": "stderr",
          "text": [
            "Validation Progress: 100%|██████████| 157/157 [00:02<00:00, 75.68it/s]\n"
          ]
        },
        {
          "output_type": "stream",
          "name": "stdout",
          "text": [
            "Test Contrastive Divergence: -9.0461\n",
            "Epoch 17: \n"
          ]
        },
        {
          "output_type": "stream",
          "name": "stderr",
          "text": [
            "Training Progress: 100%|██████████| 937/937 [02:41<00:00,  5.80it/s]\n"
          ]
        },
        {
          "output_type": "stream",
          "name": "stdout",
          "text": [
            "Train Loss = -0.0000\n"
          ]
        },
        {
          "output_type": "stream",
          "name": "stderr",
          "text": [
            "Validation Progress: 100%|██████████| 157/157 [00:02<00:00, 75.02it/s]\n"
          ]
        },
        {
          "output_type": "stream",
          "name": "stdout",
          "text": [
            "Test Contrastive Divergence: -9.3975\n",
            "Epoch 18: \n"
          ]
        },
        {
          "output_type": "stream",
          "name": "stderr",
          "text": [
            "Training Progress: 100%|██████████| 937/937 [02:41<00:00,  5.80it/s]\n"
          ]
        },
        {
          "output_type": "stream",
          "name": "stdout",
          "text": [
            "Train Loss = -0.0001\n"
          ]
        },
        {
          "output_type": "stream",
          "name": "stderr",
          "text": [
            "Validation Progress: 100%|██████████| 157/157 [00:02<00:00, 62.98it/s]\n"
          ]
        },
        {
          "output_type": "stream",
          "name": "stdout",
          "text": [
            "Test Contrastive Divergence: -10.0061\n",
            "Epoch 19: \n"
          ]
        },
        {
          "output_type": "stream",
          "name": "stderr",
          "text": [
            "Training Progress: 100%|██████████| 937/937 [02:43<00:00,  5.72it/s]\n"
          ]
        },
        {
          "output_type": "stream",
          "name": "stdout",
          "text": [
            "Train Loss = -0.0001\n"
          ]
        },
        {
          "output_type": "stream",
          "name": "stderr",
          "text": [
            "Validation Progress: 100%|██████████| 157/157 [00:02<00:00, 70.95it/s]\n"
          ]
        },
        {
          "output_type": "stream",
          "name": "stdout",
          "text": [
            "Test Contrastive Divergence: -10.3061\n",
            "Epoch 20: \n"
          ]
        },
        {
          "output_type": "stream",
          "name": "stderr",
          "text": [
            "Training Progress: 100%|██████████| 937/937 [02:41<00:00,  5.78it/s]\n"
          ]
        },
        {
          "output_type": "stream",
          "name": "stdout",
          "text": [
            "Train Loss = 0.0001\n"
          ]
        },
        {
          "output_type": "stream",
          "name": "stderr",
          "text": [
            "Validation Progress: 100%|██████████| 157/157 [00:02<00:00, 73.31it/s]"
          ]
        },
        {
          "output_type": "stream",
          "name": "stdout",
          "text": [
            "Test Contrastive Divergence: -10.6083\n"
          ]
        },
        {
          "output_type": "stream",
          "name": "stderr",
          "text": [
            "\n"
          ]
        }
      ],
      "source": [
        "train_loss = []\n",
        "epoch = 20  # Number of epochs\n",
        "\n",
        "for i in range(epoch):\n",
        "\n",
        "    print(f'Epoch {i+1}: ')\n",
        "\n",
        "    # Train for one epoch\n",
        "    epoch_loss = train_one_epoch(model, train_loader, optimizer, sampler, alpha)\n",
        "    train_loss.append(epoch_loss)\n",
        "    print(f'Train Loss = {train_loss[-1]:.4f}')\n",
        "\n",
        "    # Compute Contrastive Divergence on the test set\n",
        "    test_cdiv = test_one_epoch(model, test_loader)\n",
        "    print(f\"Test Contrastive Divergence: {test_cdiv:.4f}\")\n"
      ]
    },
    {
      "cell_type": "markdown",
      "metadata": {
        "id": "U26MoRnm3fpF"
      },
      "source": [
        "### Test\n",
        "Test your Model using Test Dataloader"
      ]
    },
    {
      "cell_type": "code",
      "execution_count": 15,
      "metadata": {
        "id": "WbQgwh_XD2_g",
        "outputId": "e657f986-81e4-405d-85b7-30bc43e0f826",
        "colab": {
          "base_uri": "https://localhost:8080/"
        }
      },
      "outputs": [
        {
          "output_type": "stream",
          "name": "stderr",
          "text": [
            "Validation Progress: 100%|██████████| 157/157 [00:02<00:00, 73.08it/s]"
          ]
        },
        {
          "output_type": "stream",
          "name": "stdout",
          "text": [
            "Test Contrastive Divergence: -10.611238273086062\n"
          ]
        },
        {
          "output_type": "stream",
          "name": "stderr",
          "text": [
            "\n"
          ]
        }
      ],
      "source": [
        "test_cdiv = test_one_epoch(model, test_loader)\n",
        "\n",
        "print(f\"Test Contrastive Divergence: {test_cdiv}\")"
      ]
    },
    {
      "cell_type": "markdown",
      "metadata": {
        "id": "GCYvcxx331Tv"
      },
      "source": [
        "### Generate Image\n",
        "\n",
        "Here you have to use `generate_image` to sample from model and visualize it."
      ]
    },
    {
      "cell_type": "code",
      "execution_count": 16,
      "metadata": {
        "id": "jzTSKxMuKKDx",
        "outputId": "1f008799-4574-4e80-da03-9b2add79e4e9",
        "colab": {
          "base_uri": "https://localhost:8080/",
          "height": 613
        }
      },
      "outputs": [
        {
          "output_type": "display_data",
          "data": {
            "text/plain": [
              "<Figure size 800x800 with 1 Axes>"
            ],
            "image/png": "[encoded data removed]"
          },
          "metadata": {}
        },
        {
          "output_type": "display_data",
          "data": {
            "text/plain": [
              "<Figure size 800x800 with 1 Axes>"
            ],
            "image/png": "[encoded data removed]"
          },
          "metadata": {}
        },
        {
          "output_type": "display_data",
          "data": {
            "text/plain": [
              "<Figure size 800x800 with 1 Axes>"
            ],
            "image/png": "[encoded data removed]"
          },
          "metadata": {}
        },
        {
          "output_type": "display_data",
          "data": {
            "text/plain": [
              "<Figure size 800x800 with 1 Axes>"
            ],
            "image/png": "[encoded data removed]"
          },
          "metadata": {}
        }
      ],
      "source": [
        "def generate_imgsp(pl_module):\n",
        "    pl_module.eval()\n",
        "    start_imgs = torch.rand((4,)+img_shape).to(device)\n",
        "    start_imgs = start_imgs * 2 - 1\n",
        "    torch.set_grad_enabled(True)  # Tracking gradients for sampling necessary\n",
        "    imgs_per_step = sampler.generate_samples(pl_module, start_imgs, steps=257, step_size=10, return_img_per_step=True)\n",
        "    torch.set_grad_enabled(False)\n",
        "    pl_module.train()\n",
        "    return imgs_per_step\n",
        "\n",
        "imgs_per_step = generate_imgsp(model)\n",
        "imgs_per_step = imgs_per_step.cpu()\n",
        "\n",
        "for i in range(imgs_per_step.shape[1]):\n",
        "    imgs_to_plot = imgs_per_step[0:256:32,i]\n",
        "    grid = torchvision.utils.make_grid(imgs_to_plot, nrow=imgs_to_plot.shape[0], normalize=True, pad_value=0.5, padding=2)\n",
        "    grid = grid.permute(1, 2, 0)\n",
        "    plt.figure(figsize=(8,8))\n",
        "    plt.imshow(grid.clone().cpu())\n",
        "    plt.xlabel(\"Generation iteration\")\n",
        "    plt.show()"
      ]
    },
    {
      "cell_type": "markdown",
      "metadata": {
        "id": "TL88lbccbeAL"
      },
      "source": [
        "# Evaluation (20 pts)"
      ]
    },
    {
      "cell_type": "markdown",
      "metadata": {
        "id": "RliglE2RbeAL"
      },
      "source": [
        "Now lets evaluate the model more precisely."
      ]
    },
    {
      "cell_type": "code",
      "execution_count": 17,
      "metadata": {
        "id": "K1J3M5UnbeAL"
      },
      "outputs": [],
      "source": [
        "import numpy as np\n",
        "from scipy.spatial import distance\n",
        "\n",
        "# Compute entropy\n",
        "def compute_entropy(labels):\n",
        "    \"\"\"\n",
        "    Compute entropy of the given labels.\n",
        "\n",
        "    Args:\n",
        "        labels: input labels (non-negative integers)\n",
        "\n",
        "    Returns:\n",
        "        entropy: computed entropy\n",
        "    \"\"\"\n",
        "    labels = np.array(labels)\n",
        "    labels -= np.min(labels) if np.min(labels) < 0 else 0\n",
        "    probabilities = np.bincount(labels) / len(labels)\n",
        "    probabilities = probabilities[probabilities > 0]\n",
        "    return -np.sum(probabilities * np.log(probabilities))\n",
        "\n",
        "# Compute identifiability\n",
        "def compute_identifiability(orig_data, synth_data):\n",
        "    \"\"\"\n",
        "    Compute identifiability value between original and synthetic data.\n",
        "\n",
        "    Args:\n",
        "        orig_data: original data\n",
        "        synth_data: synthetically generated data\n",
        "\n",
        "    Returns:\n",
        "        identifiability_value: Identifiability metric\n",
        "    \"\"\"\n",
        "    orig_data, synth_data = np.asarray(orig_data), np.asarray(synth_data)\n",
        "    x_dim = orig_data.shape[1]\n",
        "\n",
        "    # Compute weights\n",
        "    W = np.array([compute_entropy(np.round(orig_data[:, i] * 100).astype(int)) for i in range(x_dim)])\n",
        "    W /= np.sum(W)\n",
        "\n",
        "    # Normalize data\n",
        "    orig_data_hat, synth_data_hat = orig_data * W, synth_data * W\n",
        "\n",
        "    # Compute distances\n",
        "    orig_distances = distance.cdist(orig_data_hat, orig_data_hat, metric=\"euclidean\")\n",
        "    np.fill_diagonal(orig_distances, np.inf)\n",
        "    nearest_orig = np.sort(orig_distances, axis=1)[:, 1]\n",
        "\n",
        "    nearest_synth = np.min(distance.cdist(orig_data_hat, synth_data_hat, metric=\"euclidean\"), axis=1)\n",
        "\n",
        "    return np.sum(nearest_synth < nearest_orig) / len(orig_data)\n"
      ]
    },
    {
      "cell_type": "code",
      "execution_count": 24,
      "metadata": {
        "id": "39ob9jXqbeAM",
        "colab": {
          "base_uri": "https://localhost:8080/"
        },
        "outputId": "194dbfb8-fe1d-45c8-90d8-f9f5808580b8"
      },
      "outputs": [
        {
          "output_type": "stream",
          "name": "stderr",
          "text": [
            "Generating Samples: 100%|██████████| 64/64 [00:34<00:00,  1.85it/s]\n",
            "Generating Samples: 100%|██████████| 64/64 [00:33<00:00,  1.91it/s]\n",
            "Generating Samples: 100%|██████████| 64/64 [00:33<00:00,  1.90it/s]\n",
            "Generating Samples: 100%|██████████| 64/64 [00:33<00:00,  1.91it/s]\n",
            "Generating Samples: 100%|██████████| 64/64 [00:33<00:00,  1.93it/s]\n",
            "Generating Samples: 100%|██████████| 64/64 [00:33<00:00,  1.91it/s]\n",
            "Generating Samples: 100%|██████████| 64/64 [00:37<00:00,  1.70it/s]\n",
            "Generating Samples: 100%|██████████| 64/64 [00:33<00:00,  1.89it/s]\n",
            "Generating Samples: 100%|██████████| 64/64 [00:34<00:00,  1.87it/s]\n",
            "Generating Samples: 100%|██████████| 64/64 [00:33<00:00,  1.90it/s]\n",
            "Generating Samples: 100%|██████████| 64/64 [00:33<00:00,  1.91it/s]\n",
            "Generating Samples: 100%|██████████| 64/64 [00:33<00:00,  1.91it/s]\n",
            "Generating Samples: 100%|██████████| 64/64 [00:33<00:00,  1.91it/s]\n",
            "Generating Samples: 100%|██████████| 64/64 [00:33<00:00,  1.93it/s]\n",
            "Generating Samples: 100%|██████████| 64/64 [00:33<00:00,  1.90it/s]\n",
            "Generating Samples: 100%|██████████| 64/64 [00:33<00:00,  1.91it/s]\n"
          ]
        },
        {
          "output_type": "stream",
          "name": "stdout",
          "text": [
            "0.0068359375\n"
          ]
        }
      ],
      "source": [
        "import numpy as np\n",
        "\n",
        "# Limit the number of samples to 1024\n",
        "MAX_SAMPLES = 1024\n",
        "\n",
        "# Load original data\n",
        "origin_data = []\n",
        "for img, _ in test_loader:\n",
        "    origin_data.append(img.numpy())\n",
        "    if len(origin_data) * img.shape[0] >= MAX_SAMPLES:\n",
        "        break\n",
        "\n",
        "origin_data = np.concatenate(origin_data, axis=0).reshape(-1, 28 * 28)\n",
        "\n",
        "# Generate synthetic data\n",
        "synth_data = []\n",
        "for _ in range(MAX_SAMPLES // BATCH_SIZE):\n",
        "    img = generate_image(model, sampler, BATCH_SIZE).squeeze().cpu().detach().numpy()\n",
        "    synth_data.append(img)\n",
        "\n",
        "synth_data = np.concatenate(synth_data, axis=0).reshape(-1, 28 * 28)\n",
        "\n",
        "# Compute and print identifiability value\n",
        "identifiability_value = compute_identifiability(origin_data, synth_data)\n",
        "print(identifiability_value)"
      ]
    },
    {
      "cell_type": "code",
      "source": [
        "import matplotlib.pyplot as plt\n",
        "import numpy as np\n",
        "\n",
        "# Number of samples to plot\n",
        "num_samples = 12  # Adjust as needed\n",
        "\n",
        "# Define specific indices for image selection\n",
        "indices = [10, 50, 100, 111, 222, 333, 444, 555, 666, 777, 888, 999][:num_samples]\n",
        "\n",
        "# Ensure we don't exceed the available data size\n",
        "max_index = min(len(origin_data), len(synth_data))\n",
        "indices = [idx for idx in indices if idx < max_index]\n",
        "\n",
        "# Create subplots\n",
        "fig, axes = plt.subplots(len(indices), 2, figsize=(6, 3 * len(indices)))\n",
        "\n",
        "for i, idx in enumerate(indices):\n",
        "    for j, (data, title) in enumerate(zip([synth_data, origin_data], [\"Synthetic\", \"Original\"])):\n",
        "        axes[i, j].imshow(data[idx].reshape(28, 28), cmap='gray')\n",
        "        axes[i, j].axis('off')\n",
        "        axes[i, j].set_title(title)\n",
        "\n",
        "plt.tight_layout()\n",
        "plt.show()"
      ],
      "metadata": {
        "colab": {
          "base_uri": "https://localhost:8080/",
          "height": 1000
        },
        "id": "kx8RdRuSkwaC",
        "outputId": "ca4e3c77-6998-4656-b68a-a3a4e16e2db8"
      },
      "execution_count": 23,
      "outputs": [
        {
          "output_type": "display_data",
          "data": {
            "text/plain": [
              "<Figure size 600x3600 with 24 Axes>"
            ],
            "image/png": "[encoded data removed]"
          },
          "metadata": {}
        }
      ]
    }
  ],
  "metadata": {
    "accelerator": "GPU",
    "colab": {
      "gpuType": "T4",
      "provenance": []
    },
    "kernelspec": {
      "display_name": "Python 3",
      "name": "python3"
    },
    "language_info": {
      "name": "python"
    }
  },
  "nbformat": 4,
  "nbformat_minor": 0
}